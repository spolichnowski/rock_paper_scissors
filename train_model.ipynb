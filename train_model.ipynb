{
  "nbformat": 4,
  "nbformat_minor": 0,
  "metadata": {
    "colab": {
      "name": "train_data.ipynb",
      "provenance": [],
      "collapsed_sections": []
    },
    "kernelspec": {
      "name": "python3",
      "display_name": "Python 3"
    },
    "accelerator": "GPU"
  },
  "cells": [
    {
      "cell_type": "markdown",
      "metadata": {
        "id": "Zboxb4mNa1ct"
      },
      "source": [
        "**Check GPU connection**\n"
      ]
    },
    {
      "cell_type": "code",
      "metadata": {
        "id": "-h08oO-JO01I",
        "colab": {
          "base_uri": "https://localhost:8080/"
        },
        "outputId": "bbf843ef-dba9-4324-da98-b72ce6508f97"
      },
      "source": [
        "!nvidia-smi"
      ],
      "execution_count": null,
      "outputs": [
        {
          "output_type": "stream",
          "text": [
            "Tue Mar 16 17:29:58 2021       \n",
            "+-----------------------------------------------------------------------------+\n",
            "| NVIDIA-SMI 460.56       Driver Version: 460.32.03    CUDA Version: 11.2     |\n",
            "|-------------------------------+----------------------+----------------------+\n",
            "| GPU  Name        Persistence-M| Bus-Id        Disp.A | Volatile Uncorr. ECC |\n",
            "| Fan  Temp  Perf  Pwr:Usage/Cap|         Memory-Usage | GPU-Util  Compute M. |\n",
            "|                               |                      |               MIG M. |\n",
            "|===============================+======================+======================|\n",
            "|   0  Tesla K80           Off  | 00000000:00:04.0 Off |                    0 |\n",
            "| N/A   31C    P8    28W / 149W |      0MiB / 11441MiB |      0%      Default |\n",
            "|                               |                      |                  N/A |\n",
            "+-------------------------------+----------------------+----------------------+\n",
            "                                                                               \n",
            "+-----------------------------------------------------------------------------+\n",
            "| Processes:                                                                  |\n",
            "|  GPU   GI   CI        PID   Type   Process name                  GPU Memory |\n",
            "|        ID   ID                                                   Usage      |\n",
            "|=============================================================================|\n",
            "|  No running processes found                                                 |\n",
            "+-----------------------------------------------------------------------------+\n"
          ],
          "name": "stdout"
        }
      ]
    },
    {
      "cell_type": "markdown",
      "metadata": {
        "id": "h1zPie78Ua1F"
      },
      "source": [
        "**Import all required libraries**\n"
      ]
    },
    {
      "cell_type": "code",
      "metadata": {
        "id": "bQAvnBLlRF-2"
      },
      "source": [
        "import datetime\n",
        "import tensorflow as tf\n",
        "import tensorflow_datasets as tfds\n",
        "import matplotlib.pyplot as plt\n",
        "from tensorflow import keras\n",
        "from tensorflow.keras.layers.experimental.preprocessing import CenterCrop, Rescaling, RandomFlip, RandomRotation, Resizing\n",
        "from tensorflow.keras.backend import expand_dims\n",
        "from tensorflow.keras import layers\n",
        "from cv2 import cv2 as cv"
      ],
      "execution_count": 1,
      "outputs": []
    },
    {
      "cell_type": "markdown",
      "metadata": {
        "id": "v7n72wpRbCE1"
      },
      "source": [
        "**Create folder for accuracy/loss charts and model summary**"
      ]
    },
    {
      "cell_type": "code",
      "metadata": {
        "colab": {
          "base_uri": "https://localhost:8080/"
        },
        "id": "9KsMQ_WfFV_Y",
        "outputId": "fadddba8-4791-46af-a263-90ea602b9a4e"
      },
      "source": [
        "print(\"Input folder name:\")\n",
        "name = input()\n",
        "!mkdir $name"
      ],
      "execution_count": 27,
      "outputs": [
        {
          "output_type": "stream",
          "text": [
            "Input folder name:\n",
            "r6\n"
          ],
          "name": "stdout"
        }
      ]
    },
    {
      "cell_type": "markdown",
      "metadata": {
        "id": "KX1D3VycAAeQ"
      },
      "source": [
        "**Convolutional Neural Network (CNN) with 4 conv layers**"
      ]
    },
    {
      "cell_type": "code",
      "metadata": {
        "id": "hAn1KXE6UltX",
        "colab": {
          "base_uri": "https://localhost:8080/"
        },
        "outputId": "93cdd7c9-da4a-458e-c979-4069ff0794a6"
      },
      "source": [
        "def train(folder_name):\n",
        "\n",
        "    model_path = './{}'.format(folder_name)\n",
        "    shape = (300, 300, 3)\n",
        "    batch_size = 64\n",
        "\n",
        "    (train, test), info = tfds.load(\n",
        "        \"rock_paper_scissors\",\n",
        "        split=['train', 'test'],\n",
        "        shuffle_files=True,\n",
        "        as_supervised=True,\n",
        "        with_info=True,\n",
        "    )\n",
        "\n",
        "    def normalize_img(image, label):\n",
        "        \"\"\"Normalizes images: `uint8` -> `float32`.\"\"\"\n",
        "        return tf.cast(image, tf.float32) / 255., label\n",
        "\n",
        "    # Pipeline for training dataset\n",
        "    train = train.map(\n",
        "    normalize_img, num_parallel_calls=tf.data.experimental.AUTOTUNE)\n",
        "    train = train.cache()\n",
        "    train = train.shuffle(info.splits['train'].num_examples)\n",
        "    train = train.batch(batch_size)\n",
        "    train = train.prefetch(tf.data.experimental.AUTOTUNE)\n",
        "\n",
        "    # Pipeline for testing dataset\n",
        "    test = test.map(\n",
        "    normalize_img, num_parallel_calls=tf.data.experimental.AUTOTUNE)\n",
        "    test = test.batch(batch_size)\n",
        "    test = test.cache()\n",
        "    test = test.prefetch(tf.data.experimental.AUTOTUNE)\n",
        "    \n",
        "\n",
        "    data_augmentation = keras.Sequential([\n",
        "        RandomFlip(\"horizontal_and_vertical\"),\n",
        "        RandomRotation(0.1)\n",
        "    ])\n",
        "\n",
        "    resize_and_rescale = keras.Sequential([\n",
        "    Resizing(150, 150),\n",
        "    Rescaling(1./255)\n",
        "    ])\n",
        "\n",
        "    # Input layer\n",
        "    inputs = keras.Input(shape=shape)\n",
        "\n",
        "    x = layers.Conv2D(32, (3, 3), padding='same', activation=\"relu\")(inputs)\n",
        "    x = layers.MaxPooling2D(pool_size=(2, 2))(x)\n",
        "\n",
        "    x = layers.Conv2D(32, (3, 3), activation=\"relu\")(x)\n",
        "    x = layers.MaxPooling2D(pool_size=(2, 2))(x)\n",
        "\n",
        "    x = layers.Conv2D(64, (3, 3), activation=\"relu\")(x)\n",
        "    x = layers.MaxPooling2D(pool_size=(2, 2))(x)\n",
        "\n",
        "    x = layers.Conv2D(64, (3, 3), activation=\"relu\")(x)\n",
        "    x = layers.MaxPooling2D(pool_size=(2, 2))(x)\n",
        "\n",
        "    x = layers.Conv2D(128, (3, 3), activation=\"relu\")(x)\n",
        "    x = layers.MaxPooling2D(pool_size=(2, 2))(x)\n",
        "\n",
        "    x = layers.Conv2D(128, (3, 3), activation=\"relu\")(x)\n",
        "    x = layers.MaxPooling2D(pool_size=(2, 2))(x)\n",
        "\n",
        "    x = layers.Flatten()(x)\n",
        "    x = layers.Dropout(0.5)(x)\n",
        "\n",
        "    x = layers.Dense(256, activation=\"relu\")(x)\n",
        "    outputs = layers.Dense(3, activation=\"softmax\")(x)\n",
        "\n",
        "    model = keras.Model(inputs=inputs, outputs=outputs)\n",
        "\n",
        "    # Displays model summary in terminal\n",
        "    model.summary()\n",
        "\n",
        "    # Sets loss and optomazer algoriths\n",
        "    model.compile(optimizer='adam',\n",
        "                    loss='sparse_categorical_crossentropy', metrics=['accuracy'])\n",
        "\n",
        "    # Tensorboard\n",
        "    log_dir = '/{}/'.format(name) + \"logs/fit/\" + datetime.datetime.now().strftime(\"%Y%m%d-%H%M%S\")\n",
        "    tensorboard_callback = tf.keras.callbacks.TensorBoard(log_dir=log_dir, histogram_freq=1)\n",
        "\n",
        "    # Trains the model and saves it do history variable\n",
        "    history = model.fit(train, batch_size=batch_size,\n",
        "                          epochs=10, validation_data=test, callbacks=[tensorboard_callback])\n",
        "\n",
        "    # Evaluate\n",
        "    model.evaluate(test, batch_size=batch_size)\n",
        "\n",
        "    # Saves model\n",
        "    keras.models.save_model(\n",
        "        model,\n",
        "        model_path,\n",
        "        overwrite=True,\n",
        "        include_optimizer=True,\n",
        "        save_format=None,\n",
        "        signatures=None,\n",
        "        options=None,\n",
        "    )\n",
        "\n",
        "train(name)"
      ],
      "execution_count": 28,
      "outputs": [
        {
          "output_type": "stream",
          "text": [
            "Model: \"model_12\"\n",
            "_________________________________________________________________\n",
            "Layer (type)                 Output Shape              Param #   \n",
            "=================================================================\n",
            "input_14 (InputLayer)        [(None, 300, 300, 3)]     0         \n",
            "_________________________________________________________________\n",
            "conv2d_49 (Conv2D)           (None, 300, 300, 32)      896       \n",
            "_________________________________________________________________\n",
            "max_pooling2d_48 (MaxPooling (None, 150, 150, 32)      0         \n",
            "_________________________________________________________________\n",
            "conv2d_50 (Conv2D)           (None, 148, 148, 32)      9248      \n",
            "_________________________________________________________________\n",
            "max_pooling2d_49 (MaxPooling (None, 74, 74, 32)        0         \n",
            "_________________________________________________________________\n",
            "conv2d_51 (Conv2D)           (None, 72, 72, 64)        18496     \n",
            "_________________________________________________________________\n",
            "max_pooling2d_50 (MaxPooling (None, 36, 36, 64)        0         \n",
            "_________________________________________________________________\n",
            "conv2d_52 (Conv2D)           (None, 34, 34, 64)        36928     \n",
            "_________________________________________________________________\n",
            "max_pooling2d_51 (MaxPooling (None, 17, 17, 64)        0         \n",
            "_________________________________________________________________\n",
            "conv2d_53 (Conv2D)           (None, 15, 15, 128)       73856     \n",
            "_________________________________________________________________\n",
            "max_pooling2d_52 (MaxPooling (None, 7, 7, 128)         0         \n",
            "_________________________________________________________________\n",
            "conv2d_54 (Conv2D)           (None, 5, 5, 128)         147584    \n",
            "_________________________________________________________________\n",
            "max_pooling2d_53 (MaxPooling (None, 2, 2, 128)         0         \n",
            "_________________________________________________________________\n",
            "flatten_12 (Flatten)         (None, 512)               0         \n",
            "_________________________________________________________________\n",
            "dropout_13 (Dropout)         (None, 512)               0         \n",
            "_________________________________________________________________\n",
            "dense_24 (Dense)             (None, 256)               131328    \n",
            "_________________________________________________________________\n",
            "dense_25 (Dense)             (None, 3)                 771       \n",
            "=================================================================\n",
            "Total params: 419,107\n",
            "Trainable params: 419,107\n",
            "Non-trainable params: 0\n",
            "_________________________________________________________________\n",
            "Epoch 1/10\n",
            "40/40 [==============================] - 11s 126ms/step - loss: 1.0367 - accuracy: 0.4190 - val_loss: 0.7816 - val_accuracy: 0.6398\n",
            "Epoch 2/10\n",
            "40/40 [==============================] - 4s 90ms/step - loss: 0.2360 - accuracy: 0.9136 - val_loss: 0.7092 - val_accuracy: 0.8629\n",
            "Epoch 3/10\n",
            "40/40 [==============================] - 4s 91ms/step - loss: 0.0262 - accuracy: 0.9900 - val_loss: 0.7156 - val_accuracy: 0.8790\n",
            "Epoch 4/10\n",
            "40/40 [==============================] - 4s 89ms/step - loss: 0.0167 - accuracy: 0.9961 - val_loss: 0.4243 - val_accuracy: 0.9328\n",
            "Epoch 5/10\n",
            "40/40 [==============================] - 4s 90ms/step - loss: 0.0148 - accuracy: 0.9948 - val_loss: 0.6137 - val_accuracy: 0.8656\n",
            "Epoch 6/10\n",
            "40/40 [==============================] - 4s 90ms/step - loss: 0.0075 - accuracy: 0.9986 - val_loss: 0.5332 - val_accuracy: 0.9570\n",
            "Epoch 7/10\n",
            "40/40 [==============================] - 4s 90ms/step - loss: 0.0093 - accuracy: 0.9993 - val_loss: 0.8867 - val_accuracy: 0.8629\n",
            "Epoch 8/10\n",
            "40/40 [==============================] - 4s 89ms/step - loss: 0.0026 - accuracy: 0.9997 - val_loss: 0.1392 - val_accuracy: 0.9409\n",
            "Epoch 9/10\n",
            "40/40 [==============================] - 4s 89ms/step - loss: 8.9839e-04 - accuracy: 1.0000 - val_loss: 0.2505 - val_accuracy: 0.9247\n",
            "Epoch 10/10\n",
            "40/40 [==============================] - 4s 89ms/step - loss: 1.6729e-04 - accuracy: 1.0000 - val_loss: 0.2701 - val_accuracy: 0.9274\n",
            "6/6 [==============================] - 0s 24ms/step - loss: 0.2701 - accuracy: 0.9274\n",
            "INFO:tensorflow:Assets written to: ./r6/assets\n"
          ],
          "name": "stdout"
        },
        {
          "output_type": "stream",
          "text": [
            "INFO:tensorflow:Assets written to: ./r6/assets\n"
          ],
          "name": "stderr"
        }
      ]
    },
    {
      "cell_type": "code",
      "metadata": {
        "colab": {
          "base_uri": "https://localhost:8080/",
          "height": 119
        },
        "id": "t8NIOK9NO76q",
        "outputId": "f8d36bce-b173-4a66-974d-80ce8e9dc98c"
      },
      "source": [
        "!zip -r /content/r6.zip /content/r6/\n",
        "from google.colab import files\n",
        "files.download(\"/content/r6.zip\")\n"
      ],
      "execution_count": 29,
      "outputs": [
        {
          "output_type": "stream",
          "text": [
            "  adding: content/r6/ (stored 0%)\n",
            "  adding: content/r6/saved_model.pb (deflated 90%)\n",
            "  adding: content/r6/assets/ (stored 0%)\n",
            "  adding: content/r6/variables/ (stored 0%)\n",
            "  adding: content/r6/variables/variables.index (deflated 70%)\n",
            "  adding: content/r6/variables/variables.data-00000-of-00001 (deflated 7%)\n"
          ],
          "name": "stdout"
        },
        {
          "output_type": "display_data",
          "data": {
            "application/javascript": [
              "\n",
              "    async function download(id, filename, size) {\n",
              "      if (!google.colab.kernel.accessAllowed) {\n",
              "        return;\n",
              "      }\n",
              "      const div = document.createElement('div');\n",
              "      const label = document.createElement('label');\n",
              "      label.textContent = `Downloading \"${filename}\": `;\n",
              "      div.appendChild(label);\n",
              "      const progress = document.createElement('progress');\n",
              "      progress.max = size;\n",
              "      div.appendChild(progress);\n",
              "      document.body.appendChild(div);\n",
              "\n",
              "      const buffers = [];\n",
              "      let downloaded = 0;\n",
              "\n",
              "      const channel = await google.colab.kernel.comms.open(id);\n",
              "      // Send a message to notify the kernel that we're ready.\n",
              "      channel.send({})\n",
              "\n",
              "      for await (const message of channel.messages) {\n",
              "        // Send a message to notify the kernel that we're ready.\n",
              "        channel.send({})\n",
              "        if (message.buffers) {\n",
              "          for (const buffer of message.buffers) {\n",
              "            buffers.push(buffer);\n",
              "            downloaded += buffer.byteLength;\n",
              "            progress.value = downloaded;\n",
              "          }\n",
              "        }\n",
              "      }\n",
              "      const blob = new Blob(buffers, {type: 'application/binary'});\n",
              "      const a = document.createElement('a');\n",
              "      a.href = window.URL.createObjectURL(blob);\n",
              "      a.download = filename;\n",
              "      div.appendChild(a);\n",
              "      a.click();\n",
              "      div.remove();\n",
              "    }\n",
              "  "
            ],
            "text/plain": [
              "<IPython.core.display.Javascript object>"
            ]
          },
          "metadata": {
            "tags": []
          }
        },
        {
          "output_type": "display_data",
          "data": {
            "application/javascript": [
              "download(\"download_39e821d6-9c92-489d-bfb4-8826be05b38d\", \"r6.zip\", 4721353)"
            ],
            "text/plain": [
              "<IPython.core.display.Javascript object>"
            ]
          },
          "metadata": {
            "tags": []
          }
        }
      ]
    }
  ]
}